{
 "cells": [
  {
   "cell_type": "markdown",
   "metadata": {},
   "source": [
    "# Tasks\n",
    "\n",
    "Machine Learning\n",
    "\n",
    "Winter 2023/24\n",
    "\n",
    "by James Connolly (G00232918)\n",
    "\n",
    "***"
   ]
  },
  {
   "cell_type": "markdown",
   "metadata": {},
   "source": [
    "## Task 1\n",
    "\n",
    "> Square roots are difficult to calculate. In Python, you typically use the power operator (a double asterisk) or a package such\n",
    "as math. In this task,1 you should write a function sqrt(x) to 1 approximate the square root of a floating point number x without\n",
    "using the power operator or a package.\n",
    "\n",
    "> Rather, you should use the initial guess for the square root called $z_0$. You then repeatedly improve it using the following formula, until the difference between some previous guess $z_i$ and the next $z{i+1}$ is less than some threshold, say 0.01.\n",
    "\n",
    "$$ z_{i+1} = z_i - \\frac{z_i x z_i - x}{2z_i} $$\n"
   ]
  },
  {
   "cell_type": "code",
   "execution_count": 4,
   "metadata": {},
   "outputs": [],
   "source": [
    "def sqrt(x):\n",
    "    # Initial guess for the square root\n",
    "    z = 4 /4.0\n",
    "\n",
    "    # Loop until we are accurate enough\n",
    "    # while (z could be improved):\n",
    "    for i in range(100):\n",
    "        # Newton's method for a better approximation\n",
    "        z = z - (((z*z)-x)/(2*z))\n",
    "\n",
    "    # z should now be a good approximation for the square root\n",
    "    return z"
   ]
  },
  {
   "cell_type": "code",
   "execution_count": 5,
   "metadata": {},
   "outputs": [
    {
     "data": {
      "text/plain": [
       "1.7320508075688774"
      ]
     },
     "execution_count": 5,
     "metadata": {},
     "output_type": "execute_result"
    }
   ],
   "source": [
    "# test the function on 3.\n",
    "sqrt(3)"
   ]
  },
  {
   "cell_type": "code",
   "execution_count": 6,
   "metadata": {},
   "outputs": [
    {
     "data": {
      "text/plain": [
       "1.7320508075688772"
      ]
     },
     "execution_count": 6,
     "metadata": {},
     "output_type": "execute_result"
    }
   ],
   "source": [
    "# Check Python's value for square root of 3.\n",
    "3**0.5"
   ]
  },
  {
   "cell_type": "code",
   "execution_count": 21,
   "metadata": {},
   "outputs": [
    {
     "name": "stdout",
     "output_type": "stream",
     "text": [
      "1.7320508100147276\n",
      "1.7320508075688772\n"
     ]
    }
   ],
   "source": [
    "### Alertnative answer\n",
    "\n",
    "def sqrt1(x):\n",
    "\n",
    "    # Starting point is 'x / 2.0', which is a reasonable estimate based on reference.\n",
    "    z = x / 2.0\n",
    "    \n",
    "    \n",
    "    # Set a threshold for stop criteria\n",
    "    # when the difference between consecutive approximations is less than or \n",
    "    # equal to this threshold.\n",
    "    threshold = 0.01\n",
    "\n",
    "    while True:\n",
    "        # Use Newton's method to compute a better approximation of the square root.\n",
    "        z_next = z - ((z * z - x) / (2 * z))\n",
    "        \n",
    "        # Check if the absolute difference between the current and next approximation is within the threshold.\n",
    "        # If it is, we consider 'z_next' to be a good approximation and return it.\n",
    "        if abs(z_next - z) <= threshold:\n",
    "            return z_next  \n",
    "        \n",
    "        # Update 'z' with the new approximation for the next iteration.\n",
    "        z = z_next\n",
    "        \n",
    "\n",
    "# Test the sqrt1 function on the number 3.\n",
    "result = sqrt1(3)\n",
    "print(result)  \n",
    "\n",
    "# Check with Python Square root operator\n",
    "python_sqrt = 3**0.5\n",
    "print(python_sqrt)\n"
   ]
  },
  {
   "cell_type": "markdown",
   "metadata": {},
   "source": [
    "Reference - https://www.rookieslab.com/posts/finding-square-root-using-guess-and-check-algorithm-in-python"
   ]
  },
  {
   "cell_type": "markdown",
   "metadata": {},
   "source": [
    "### Notes\n",
    "\n",
    "***\n",
    "\n",
    "1. The calculation $z^2 - x$ is exactly when $z$ is the square root of $x$. It is greater than zero when $z$ is too big. It is less than zero when $z$ is too small. Thus $(z^2 - x)^2$ is a good candidate for a cost function. \n",
    "2. The derivate of the numerator $z^2 - x$ with respect to $z$ is $2z$. This is the denominator of the fraction in the formula from the question. "
   ]
  },
  {
   "cell_type": "markdown",
   "metadata": {},
   "source": [
    "***\n",
    "## End"
   ]
  },
  {
   "cell_type": "code",
   "execution_count": null,
   "metadata": {},
   "outputs": [],
   "source": []
  }
 ],
 "metadata": {
  "kernelspec": {
   "display_name": "base",
   "language": "python",
   "name": "python3"
  },
  "language_info": {
   "codemirror_mode": {
    "name": "ipython",
    "version": 3
   },
   "file_extension": ".py",
   "mimetype": "text/x-python",
   "name": "python",
   "nbconvert_exporter": "python",
   "pygments_lexer": "ipython3",
   "version": "3.11.4"
  },
  "orig_nbformat": 4
 },
 "nbformat": 4,
 "nbformat_minor": 2
}

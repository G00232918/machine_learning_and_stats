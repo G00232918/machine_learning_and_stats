{
 "cells": [
  {
   "cell_type": "markdown",
   "metadata": {},
   "source": [
    "# Tasks\n",
    "\n",
    "Machine Learning\n",
    "\n",
    "Winter 2023/24\n",
    "\n",
    "by James Connolly (G00232918)\n",
    "\n",
    "***"
   ]
  },
  {
   "cell_type": "markdown",
   "metadata": {},
   "source": [
    "## Task 1\n",
    "\n",
    "> Square roots are difficult to calculate. In Python, you typically use the power operator (a double asterisk) or a package such\n",
    "as math. In this task,1 you should write a function sqrt(x) to 1 approximate the square root of a floating point number x without\n",
    "using the power operator or a package.\n",
    "\n",
    "> Rather, you should use the initial guess for the square root called $z_0$. You then repeatedly improve it using the following formula, until the difference between some previous guess $z_i$ and the next $z{i+1}$ is less than some threshold, say 0.01.\n",
    "\n",
    "$$ z_{i+1} = z_i - \\frac{z_i x z_i - x}{2z_i} $$\n"
   ]
  },
  {
   "cell_type": "code",
   "execution_count": 4,
   "metadata": {},
   "outputs": [],
   "source": [
    "def sqrt(x):\n",
    "    # Initial guess for the square root\n",
    "    z = 4 /4.0\n",
    "\n",
    "    # Loop until we are accurate enough\n",
    "    # while (z could be improved):\n",
    "    for i in range(100):\n",
    "        # Newton's method for a better approximation\n",
    "        z = z - (((z*z)-x)/(2*z))\n",
    "\n",
    "    # z should now be a good approximation for the square root\n",
    "    return z"
   ]
  },
  {
   "cell_type": "code",
   "execution_count": 5,
   "metadata": {},
   "outputs": [
    {
     "data": {
      "text/plain": [
       "1.7320508075688774"
      ]
     },
     "execution_count": 5,
     "metadata": {},
     "output_type": "execute_result"
    }
   ],
   "source": [
    "# test the function on 3.\n",
    "sqrt(3)"
   ]
  },
  {
   "cell_type": "code",
   "execution_count": 6,
   "metadata": {},
   "outputs": [
    {
     "data": {
      "text/plain": [
       "1.7320508075688772"
      ]
     },
     "execution_count": 6,
     "metadata": {},
     "output_type": "execute_result"
    }
   ],
   "source": [
    "# Check Python's value for square root of 3.\n",
    "3**0.5"
   ]
  },
  {
   "cell_type": "code",
   "execution_count": 21,
   "metadata": {},
   "outputs": [
    {
     "name": "stdout",
     "output_type": "stream",
     "text": [
      "1.7320508100147276\n",
      "1.7320508075688772\n"
     ]
    }
   ],
   "source": [
    "### Alertnative answer\n",
    "\n",
    "def sqrt1(x):\n",
    "\n",
    "    # Starting point is 'x / 2.0', which is a reasonable estimate based on reference.\n",
    "    z = x / 2.0\n",
    "    \n",
    "    \n",
    "    # Set a threshold for stop criteria\n",
    "    # when the difference between consecutive approximations is less than or \n",
    "    # equal to this threshold.\n",
    "    threshold = 0.01\n",
    "\n",
    "    while True:\n",
    "        # Use Newton's method to compute a better approximation of the square root.\n",
    "        z_next = z - ((z * z - x) / (2 * z))\n",
    "        \n",
    "        # Check if the absolute difference between the current and next approximation is within the threshold.\n",
    "        # If it is, we consider 'z_next' to be a good approximation and return it.\n",
    "        if abs(z_next - z) <= threshold:\n",
    "            return z_next  \n",
    "        \n",
    "        # Update 'z' with the new approximation for the next iteration.\n",
    "        z = z_next\n",
    "        \n",
    "\n",
    "# Test the sqrt1 function on the number 3.\n",
    "result = sqrt1(3)\n",
    "print(result)  \n",
    "\n",
    "# Check with Python Square root operator\n",
    "python_sqrt = 3**0.5\n",
    "print(python_sqrt)\n"
   ]
  },
  {
   "cell_type": "markdown",
   "metadata": {},
   "source": [
    "Reference - https://www.rookieslab.com/posts/finding-square-root-using-guess-and-check-algorithm-in-python"
   ]
  },
  {
   "cell_type": "markdown",
   "metadata": {},
   "source": [
    "### Notes\n",
    "\n",
    "***\n",
    "\n",
    "1. The calculation $z^2 - x$ is exactly when $z$ is the square root of $x$. It is greater than zero when $z$ is too big. It is less than zero when $z$ is too small. Thus $(z^2 - x)^2$ is a good candidate for a cost function. \n",
    "2. The derivate of the numerator $z^2 - x$ with respect to $z$ is $2z$. This is the denominator of the fraction in the formula from the question. "
   ]
  },
  {
   "cell_type": "markdown",
   "metadata": {},
   "source": [
    "***\n",
    "## Task 1 End"
   ]
  },
  {
   "cell_type": "markdown",
   "metadata": {},
   "source": [
    "## Task 2\n",
    "\n",
    "> Consider the below contingency table based on a survey asking respondents whether they prefer coffee or tea and whether they\n",
    "prefer plain or chocolate biscuits. Use scipy.stats to perform a chi-squared test to see whether there is any evidence of an association between drink preference and biscuit preference in this instance.\n",
    "\n",
    "\n"
   ]
  },
  {
   "cell_type": "code",
   "execution_count": 12,
   "metadata": {},
   "outputs": [
    {
     "name": "stdout",
     "output_type": "stream",
     "text": [
      "Chi-squared statistic: 2.6359100836554257\n",
      "P-value: 0.10447218120907394\n",
      "Degrees of freedom: 1\n",
      "Expected frequencies table:\n",
      "[[49.25373134 50.74626866]\n",
      " [49.74626866 51.25373134]]\n"
     ]
    }
   ],
   "source": [
    "# Importing the necessary libraries\n",
    "import pandas as pd\n",
    "import numpy as np\n",
    "import scipy.stats as ss\n",
    "\n",
    "# Defining the variables as Categorical\n",
    "drink = pd.Categorical(['Coffee', 'Tea'], categories=['Coffee', 'Tea']) \n",
    "biscuit = pd.Categorical(['Chocolate', 'Plain'], categories=['Chocolate', 'Plain'])  \n",
    "\n",
    "# converting the data to a NumPy array\n",
    "data = np.array([[43, 57], [56, 45]])\n",
    "# Creating the cross tabulation\n",
    "cross_tab = pd.DataFrame(data, index=drink, columns=biscuit)  \n",
    "\n",
    "# Performing the chi-squared test\n",
    "chi2, p, dof, expected = ss.chi2_contingency(cross_tab)\n",
    "\n",
    "# Output the results\n",
    "# Chi-squared statistic\n",
    "print(\"Chi-squared statistic:\", chi2)\n",
    "# p-value\n",
    "print(\"P-value:\", p)\n",
    "# degrees of freedom\n",
    "print(\"Degrees of freedom:\", dof)\n",
    "# expected frequency table\n",
    "print(\"Expected frequencies table:\")\n",
    "print(expected)\n"
   ]
  },
  {
   "cell_type": "markdown",
   "metadata": {},
   "source": [
    "## Conclusion\n",
    "\n",
    "Based on the provided results, it seems that there is no significant association categorical variables being analysed, as the p-value is greater than the typical significance level of 0.05."
   ]
  },
  {
   "cell_type": "markdown",
   "metadata": {},
   "source": [
    "### References\n",
    "* How to set up the dataframe for cross tab - https://pandas.pydata.org/docs/reference/api/pandas.crosstab.html\n",
    "* Understanding pd.categorical - https://pandas.pydata.org/pandas-docs/version/0.23/generated/pandas.Categorical.html\n",
    "* chi square example - https://docs.scipy.org/doc/scipy/reference/generated/scipy.stats.chi2_contingency.html\n",
    "* Analsying the results of p-value - https://study.com/skill/learn/how-to-interpret-the-p-value-for-the-chi-square-test-for-goodness-of-fit-explanation.html"
   ]
  },
  {
   "cell_type": "markdown",
   "metadata": {},
   "source": [
    "***\n",
    "## Task 2 End"
   ]
  },
  {
   "cell_type": "markdown",
   "metadata": {},
   "source": [
    "# Task 3\n",
    "\n",
    "> Perform a t-test on the famous penguins dataset to investigate whether there is evidence of a significant difference in the body mass of male and female gentoo penguins."
   ]
  },
  {
   "cell_type": "code",
   "execution_count": 2,
   "metadata": {},
   "outputs": [
    {
     "data": {
      "text/html": [
       "<div>\n",
       "<style scoped>\n",
       "    .dataframe tbody tr th:only-of-type {\n",
       "        vertical-align: middle;\n",
       "    }\n",
       "\n",
       "    .dataframe tbody tr th {\n",
       "        vertical-align: top;\n",
       "    }\n",
       "\n",
       "    .dataframe thead th {\n",
       "        text-align: right;\n",
       "    }\n",
       "</style>\n",
       "<table border=\"1\" class=\"dataframe\">\n",
       "  <thead>\n",
       "    <tr style=\"text-align: right;\">\n",
       "      <th></th>\n",
       "      <th>species</th>\n",
       "      <th>island</th>\n",
       "      <th>bill_length_mm</th>\n",
       "      <th>bill_depth_mm</th>\n",
       "      <th>flipper_length_mm</th>\n",
       "      <th>body_mass_g</th>\n",
       "      <th>sex</th>\n",
       "    </tr>\n",
       "  </thead>\n",
       "  <tbody>\n",
       "    <tr>\n",
       "      <th>0</th>\n",
       "      <td>Adelie</td>\n",
       "      <td>Torgersen</td>\n",
       "      <td>39.1</td>\n",
       "      <td>18.7</td>\n",
       "      <td>181.0</td>\n",
       "      <td>3750.0</td>\n",
       "      <td>MALE</td>\n",
       "    </tr>\n",
       "    <tr>\n",
       "      <th>1</th>\n",
       "      <td>Adelie</td>\n",
       "      <td>Torgersen</td>\n",
       "      <td>39.5</td>\n",
       "      <td>17.4</td>\n",
       "      <td>186.0</td>\n",
       "      <td>3800.0</td>\n",
       "      <td>FEMALE</td>\n",
       "    </tr>\n",
       "    <tr>\n",
       "      <th>2</th>\n",
       "      <td>Adelie</td>\n",
       "      <td>Torgersen</td>\n",
       "      <td>40.3</td>\n",
       "      <td>18.0</td>\n",
       "      <td>195.0</td>\n",
       "      <td>3250.0</td>\n",
       "      <td>FEMALE</td>\n",
       "    </tr>\n",
       "    <tr>\n",
       "      <th>3</th>\n",
       "      <td>Adelie</td>\n",
       "      <td>Torgersen</td>\n",
       "      <td>NaN</td>\n",
       "      <td>NaN</td>\n",
       "      <td>NaN</td>\n",
       "      <td>NaN</td>\n",
       "      <td>NaN</td>\n",
       "    </tr>\n",
       "    <tr>\n",
       "      <th>4</th>\n",
       "      <td>Adelie</td>\n",
       "      <td>Torgersen</td>\n",
       "      <td>36.7</td>\n",
       "      <td>19.3</td>\n",
       "      <td>193.0</td>\n",
       "      <td>3450.0</td>\n",
       "      <td>FEMALE</td>\n",
       "    </tr>\n",
       "    <tr>\n",
       "      <th>...</th>\n",
       "      <td>...</td>\n",
       "      <td>...</td>\n",
       "      <td>...</td>\n",
       "      <td>...</td>\n",
       "      <td>...</td>\n",
       "      <td>...</td>\n",
       "      <td>...</td>\n",
       "    </tr>\n",
       "    <tr>\n",
       "      <th>339</th>\n",
       "      <td>Gentoo</td>\n",
       "      <td>Biscoe</td>\n",
       "      <td>NaN</td>\n",
       "      <td>NaN</td>\n",
       "      <td>NaN</td>\n",
       "      <td>NaN</td>\n",
       "      <td>NaN</td>\n",
       "    </tr>\n",
       "    <tr>\n",
       "      <th>340</th>\n",
       "      <td>Gentoo</td>\n",
       "      <td>Biscoe</td>\n",
       "      <td>46.8</td>\n",
       "      <td>14.3</td>\n",
       "      <td>215.0</td>\n",
       "      <td>4850.0</td>\n",
       "      <td>FEMALE</td>\n",
       "    </tr>\n",
       "    <tr>\n",
       "      <th>341</th>\n",
       "      <td>Gentoo</td>\n",
       "      <td>Biscoe</td>\n",
       "      <td>50.4</td>\n",
       "      <td>15.7</td>\n",
       "      <td>222.0</td>\n",
       "      <td>5750.0</td>\n",
       "      <td>MALE</td>\n",
       "    </tr>\n",
       "    <tr>\n",
       "      <th>342</th>\n",
       "      <td>Gentoo</td>\n",
       "      <td>Biscoe</td>\n",
       "      <td>45.2</td>\n",
       "      <td>14.8</td>\n",
       "      <td>212.0</td>\n",
       "      <td>5200.0</td>\n",
       "      <td>FEMALE</td>\n",
       "    </tr>\n",
       "    <tr>\n",
       "      <th>343</th>\n",
       "      <td>Gentoo</td>\n",
       "      <td>Biscoe</td>\n",
       "      <td>49.9</td>\n",
       "      <td>16.1</td>\n",
       "      <td>213.0</td>\n",
       "      <td>5400.0</td>\n",
       "      <td>MALE</td>\n",
       "    </tr>\n",
       "  </tbody>\n",
       "</table>\n",
       "<p>344 rows × 7 columns</p>\n",
       "</div>"
      ],
      "text/plain": [
       "    species     island  bill_length_mm  bill_depth_mm  flipper_length_mm  \\\n",
       "0    Adelie  Torgersen            39.1           18.7              181.0   \n",
       "1    Adelie  Torgersen            39.5           17.4              186.0   \n",
       "2    Adelie  Torgersen            40.3           18.0              195.0   \n",
       "3    Adelie  Torgersen             NaN            NaN                NaN   \n",
       "4    Adelie  Torgersen            36.7           19.3              193.0   \n",
       "..      ...        ...             ...            ...                ...   \n",
       "339  Gentoo     Biscoe             NaN            NaN                NaN   \n",
       "340  Gentoo     Biscoe            46.8           14.3              215.0   \n",
       "341  Gentoo     Biscoe            50.4           15.7              222.0   \n",
       "342  Gentoo     Biscoe            45.2           14.8              212.0   \n",
       "343  Gentoo     Biscoe            49.9           16.1              213.0   \n",
       "\n",
       "     body_mass_g     sex  \n",
       "0         3750.0    MALE  \n",
       "1         3800.0  FEMALE  \n",
       "2         3250.0  FEMALE  \n",
       "3            NaN     NaN  \n",
       "4         3450.0  FEMALE  \n",
       "..           ...     ...  \n",
       "339          NaN     NaN  \n",
       "340       4850.0  FEMALE  \n",
       "341       5750.0    MALE  \n",
       "342       5200.0  FEMALE  \n",
       "343       5400.0    MALE  \n",
       "\n",
       "[344 rows x 7 columns]"
      ]
     },
     "execution_count": 2,
     "metadata": {},
     "output_type": "execute_result"
    }
   ],
   "source": [
    "import pandas as pd\n",
    "\n",
    "# read in the dataset to be used.\n",
    "df = pd.read_csv('data/penguins.csv')\n",
    "\n",
    "# Show.\n",
    "df"
   ]
  },
  {
   "cell_type": "code",
   "execution_count": 3,
   "metadata": {},
   "outputs": [
    {
     "data": {
      "text/plain": [
       "array([3750., 3650., 4675., 3800., 4400., 4500., 4200., 3600., 3950.,\n",
       "       3800., 3550., 3950., 3900., 3900., 4150., 3950., 4650., 3900.,\n",
       "       4400., 4600., 3425., 4150., 4300., 4050., 3700., 3800., 3750.,\n",
       "       4400., 4050., 3950., 4100., 4450., 3900., 4150., 4250., 3900.,\n",
       "       4000., 4700., 4200., 3550., 3800., 3950., 4300., 4450., 4300.,\n",
       "       4350., 4100., 4725., 4250., 3550., 3900., 4775., 4600., 4275.,\n",
       "       4075., 3775., 3325., 3500., 3875., 4000., 4300., 4000., 3500.,\n",
       "       4475., 3900., 3975., 4250., 3475., 3725., 3650., 4250., 3750.,\n",
       "       4000., 3900., 3650., 3725., 3750., 3700., 3775., 4050., 4050.,\n",
       "       3300., 4400., 3400., 3800., 4150., 3800., 4550., 4300., 4100.,\n",
       "       3600., 4800., 4500., 3950., 3550., 4450., 4300., 3250., 3950.,\n",
       "       4050., 3450., 4050., 3800., 3950., 4000., 3775., 4100., 5700.,\n",
       "       5700., 5400., 5200., 5150., 5550., 5850., 5850., 6300., 5350.,\n",
       "       5700., 5050., 5100., 5650., 5550., 5250., 6050., 5400., 5250.,\n",
       "       5350., 5700., 4750., 5550., 5400., 5300., 5300., 5000., 5050.,\n",
       "       5000., 5550., 5300., 5650., 5700., 5800., 5550., 5000., 5100.,\n",
       "       5800., 6000., 5950., 5450., 5350., 5600., 5300., 5550., 5400.,\n",
       "       5650., 5200., 4925., 5250., 5600., 5500., 5500., 5500., 5500.,\n",
       "       5950., 5500., 5850., 6000., 5750., 5400.])"
      ]
     },
     "execution_count": 3,
     "metadata": {},
     "output_type": "execute_result"
    }
   ],
   "source": [
    "# male body mass\n",
    "# using the to numpy method to put all the related values into\n",
    "# an array (to numpy)\n",
    "sample_a = df[df['sex'] == 'MALE']['body_mass_g'].to_numpy()\n",
    "\n",
    "sample_a\n"
   ]
  },
  {
   "cell_type": "code",
   "execution_count": 4,
   "metadata": {},
   "outputs": [
    {
     "data": {
      "text/plain": [
       "array([3800., 3250., 3450., 3625., 3200., 3700., 3450., 3325., 3400.,\n",
       "       3800., 3800., 3200., 3150., 3250., 3300., 3325., 3550., 3300.,\n",
       "       3150., 3100., 3000., 3450., 3500., 3450., 2900., 3550., 2850.,\n",
       "       3150., 3600., 2850., 3350., 3050., 3600., 3550., 3700., 3700.,\n",
       "       3550., 3200., 3800., 3350., 3500., 3600., 3550., 3400., 3300.,\n",
       "       3700., 2900., 3725., 3075., 2925., 3750., 3175., 3825., 3200.,\n",
       "       3900., 2900., 3350., 3150., 3450., 3050., 3275., 3050., 3325.,\n",
       "       3500., 3425., 3175., 3400., 3400., 3050., 3000., 3475., 3450.,\n",
       "       3700., 3500., 3525., 3950., 3250., 4150., 3800., 3700., 3575.,\n",
       "       3700., 3450., 3600., 2900., 3300., 3400., 3700., 3200., 3350.,\n",
       "       3900., 3850., 2700., 3650., 3500., 3675., 3400., 3675., 3325.,\n",
       "       3600., 3350., 3250., 3525., 3650., 3650., 3400., 3775., 4500.,\n",
       "       4450., 4550., 4800., 4400., 4650., 4650., 4200., 4150., 4800.,\n",
       "       5000., 4400., 5000., 4600., 4700., 5050., 5150., 4950., 4350.,\n",
       "       3950., 4300., 4900., 4200., 5100., 4850., 4400., 4900., 4300.,\n",
       "       4450., 4200., 4400., 4700., 4700., 4750., 5200., 4700., 4600.,\n",
       "       4750., 4625., 4725., 4750., 4600., 4875., 4950., 4750., 4850.,\n",
       "       4875., 4625., 4850., 4975., 4700., 4575., 5000., 4650., 4375.,\n",
       "       4925., 4850., 5200.])"
      ]
     },
     "execution_count": 4,
     "metadata": {},
     "output_type": "execute_result"
    }
   ],
   "source": [
    "# female body mass\n",
    "sample_b = df[df['sex'] == 'FEMALE']['body_mass_g'].to_numpy()\n",
    "\n",
    "sample_b"
   ]
  },
  {
   "cell_type": "code",
   "execution_count": 6,
   "metadata": {},
   "outputs": [
    {
     "data": {
      "text/plain": [
       "TtestResult(statistic=8.541720337994516, pvalue=4.897246751596224e-16, df=331.0)"
      ]
     },
     "execution_count": 6,
     "metadata": {},
     "output_type": "execute_result"
    }
   ],
   "source": [
    "import scipy.stats as ss\n",
    "\n",
    "ss.ttest_ind(sample_a, sample_b)"
   ]
  },
  {
   "cell_type": "markdown",
   "metadata": {},
   "source": [
    "## Conclusion\n",
    "\n",
    "The t-test tool is similar to a tool thats to figure out if 2 groups are different from each other in a meaningful way. It helps to determine whether any of obsevered differents are probably not just due to random chance.\n",
    "\n",
    "By using the t-statistic, degrees of freedom and the values from the t-distribution, you can assess the validity of the hypotheses regarding the relationship between the two groups.\n",
    "\n",
    "A summary of the results are the following - \n",
    "\n",
    "T-statistic - 8.54 suggests a signifiant difference in the means of the samples defined. \n",
    "\n",
    "P-Value -  The p-value is very small (4.897e-16), indicating strong evidence against the null hypothesis. A small p-value suggests that the observed difference between the two sample means is not likely to be due to random chance.\n"
   ]
  },
  {
   "cell_type": "markdown",
   "metadata": {},
   "source": [
    "### References -\n",
    "\n",
    "* To numpy method - https://pandas.pydata.org/docs/reference/api/pandas.DataFrame.to_numpy.html\n",
    "* T-test definition - https://www.investopedia.com/terms/t/t-test.asp\n"
   ]
  },
  {
   "cell_type": "markdown",
   "metadata": {},
   "source": [
    "# Task 3 end"
   ]
  },
  {
   "cell_type": "markdown",
   "metadata": {},
   "source": []
  }
 ],
 "metadata": {
  "kernelspec": {
   "display_name": "base",
   "language": "python",
   "name": "python3"
  },
  "language_info": {
   "codemirror_mode": {
    "name": "ipython",
    "version": 3
   },
   "file_extension": ".py",
   "mimetype": "text/x-python",
   "name": "python",
   "nbconvert_exporter": "python",
   "pygments_lexer": "ipython3",
   "version": "3.11.4"
  },
  "orig_nbformat": 4
 },
 "nbformat": 4,
 "nbformat_minor": 2
}

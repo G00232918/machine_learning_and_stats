{
 "cells": [
  {
   "cell_type": "markdown",
   "metadata": {},
   "source": [
    "# Project\n",
    "\n",
    "Machine Learning\n",
    "\n",
    "Winter 2023/24\n",
    "\n",
    "by James Connolly (G00232918)\n",
    "\n",
    "***"
   ]
  },
  {
   "cell_type": "markdown",
   "metadata": {},
   "source": [
    "## Table of Contents"
   ]
  },
  {
   "cell_type": "markdown",
   "metadata": {},
   "source": [
    "## Supervised Learning\n",
    "\n",
    "* Explain Supervised Learning with and example\n",
    "* Labelling datasets for algorithms\n",
    "* Explain it benefits/ relevance / importance\n",
    "\n"
   ]
  },
  {
   "cell_type": "markdown",
   "metadata": {},
   "source": [
    "# Iris Dataset\n",
    "* Give an overview\n",
    "* Summarise the attributes and how the may be used"
   ]
  },
  {
   "cell_type": "markdown",
   "metadata": {},
   "source": [
    "# Data analysis of the Iris dataset\n",
    "* Give the statistics\n",
    "* Visualise the dataset if required"
   ]
  },
  {
   "cell_type": "markdown",
   "metadata": {},
   "source": [
    "# Classification Algorithms\n",
    "* Define classification in machine learning and statistics\n",
    "* Describe the algorithms and pick one going to be used with reasoning\n",
    "* Give a real world example"
   ]
  },
  {
   "cell_type": "markdown",
   "metadata": {},
   "source": [
    "# Implement chosen classification algorithm\n",
    "* With scikit learn Python library"
   ]
  },
  {
   "cell_type": "markdown",
   "metadata": {},
   "source": [
    "# Evaluation of Performance metrics\n",
    "* Show results\n",
    "* Comparison with other classiification algorithms\n"
   ]
  },
  {
   "cell_type": "markdown",
   "metadata": {},
   "source": [
    "# Conclusion"
   ]
  },
  {
   "cell_type": "markdown",
   "metadata": {},
   "source": []
  }
 ],
 "metadata": {
  "language_info": {
   "name": "python"
  },
  "orig_nbformat": 4
 },
 "nbformat": 4,
 "nbformat_minor": 2
}
